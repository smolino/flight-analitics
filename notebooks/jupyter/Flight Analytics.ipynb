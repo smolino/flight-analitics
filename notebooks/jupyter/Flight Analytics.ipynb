{
 "cells": [
  {
   "cell_type": "code",
   "execution_count": null,
   "metadata": {},
   "outputs": [],
   "source": [
    "## Load libraries\n",
    "library(ggplot2)\n",
    "library(maps)\n",
    "library(geosphere)\n",
    "library (DBI)\n",
    "\n",
    "\n",
    "library(sparklyr)\n",
    "library(dplyr)\n"
   ]
  },
  {
   "cell_type": "code",
   "execution_count": null,
   "metadata": {},
   "outputs": [],
   "source": [
    "## Configure cluster\n",
    "config <- spark_config()\n",
    "config$spark.driver.cores   <- 2\n",
    "config$spark.executor.cores <- 4\n",
    "config$spark.executor.memory <- \"4G\"\n",
    "\n",
    "spark_home <- \"/opt/spark/\"\n",
    "spark_version <- \"2.7.13\"\n",
    "# sc <- spark_connect(master=\"yarn-client\", version=spark_version, config=config, spark_home=spark_home)\n",
    "sc <- spark_connect(master=\"local\")\n"
   ]
  },
  {
   "cell_type": "code",
   "execution_count": null,
   "metadata": {},
   "outputs": [],
   "source": []
  },
  {
   "cell_type": "code",
   "execution_count": null,
   "metadata": {},
   "outputs": [],
   "source": [
    "dbSendQuery(sc,\"CREATE DATABASE IF NOT EXISTS flights\")\n",
    "tbl_change_db(sc,\"flights\")\n"
   ]
  },
  {
   "cell_type": "code",
   "execution_count": null,
   "metadata": {},
   "outputs": [],
   "source": [
    "dbSendQuery(sc,\"CREATE EXTERNAL TABLE IF NOT EXISTS airports_str (   iata STRING,    airport STRING,    city STRING,    state STRING,    country STRING,    latitude DOUBLE,    longitude DOUBLE) ROW FORMAT  SERDE 'org.apache.hadoop.hive.serde2.OpenCSVSerde' STORED AS TEXTFILE LOCATION '/tmp/airports/' TBLPROPERTIES('skip.header.line.count'='1')\")\n",
    "dbSendQuery(sc,\"create table if not exists airports as (select iata, city, state, country, cast(latitude as double), cast (longitude as double) from airports_str)\")\n",
    "dbSendQuery(sc,\"CREATE EXTERNAL TABLE IF NOT EXISTS airlines_bi_pq ( year INT, month INT, day INT, dayofweek INT, dep_time INT, crs_dep_time INT, arr_time INT, crs_arr_time INT, carrier STRING, flight_num INT, tail_num INT, actual_elapsed_time INT, crs_elapsed_time INT, airtime INT, arrdelay INT, depdelay INT, origin STRING, dest STRING, distance INT, taxi_in INT, taxi_out INT, cancelled INT, cancellation_code STRING, diverted INT, carrier_delay INT, weather_delay INT, nas_delay INT, security_delay INT, late_aircraft_delay INT, date_yyyymm STRING) STORED AS PARQUET LOCATION '/tmp/airlines'\")\n"
   ]
  },
  {
   "cell_type": "code",
   "execution_count": null,
   "metadata": {},
   "outputs": [],
   "source": [
    "airlines <- tbl(sc, \"airlines_bi_pq\")\n",
    "## airlines\n"
   ]
  },
  {
   "cell_type": "code",
   "execution_count": null,
   "metadata": {},
   "outputs": [],
   "source": [
    "airline_counts_by_year <- airlines %>% group_by(year) %>% summarise(count=n()) %>% collect\n",
    "airline_counts_by_year %>% tbl_df %>% print(n=nrow(.))\n"
   ]
  },
  {
   "cell_type": "code",
   "execution_count": null,
   "metadata": {},
   "outputs": [],
   "source": [
    "g <- ggplot(airline_counts_by_year, aes(x=year, y=count))\n",
    "g <- g + geom_line(\n",
    "  colour = \"magenta\",\n",
    "  linetype = 1,\n",
    "  size = 0.8\n",
    ")\n",
    "g <- g + xlab(\"Year\")\n",
    "g <- g + ylab(\"Flight number\")\n",
    "g <- g + ggtitle(\"US flights\")\n",
    "plot(g)\n"
   ]
  }
 ],
 "metadata": {
  "kernelspec": {
   "display_name": "R",
   "language": "R",
   "name": "ir"
  },
  "language_info": {
   "codemirror_mode": "r",
   "file_extension": ".r",
   "mimetype": "text/x-r-source",
   "name": "R",
   "pygments_lexer": "r",
   "version": "3.5.1"
  }
 },
 "nbformat": 4,
 "nbformat_minor": 2
}
